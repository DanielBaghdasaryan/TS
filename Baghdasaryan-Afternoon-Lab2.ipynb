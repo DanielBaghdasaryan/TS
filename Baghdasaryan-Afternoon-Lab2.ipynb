{
 "cells": [
  {
   "cell_type": "markdown",
   "metadata": {},
   "source": [
    "## Step 4.1\n",
    "\n",
    "Calculate accuracies for unused data"
   ]
  },
  {
   "cell_type": "code",
   "execution_count": 28,
   "metadata": {
    "collapsed": false
   },
   "outputs": [],
   "source": [
    "accs_body=[]\n",
    "accs_tail=[]\n",
    "\n",
    "for col in ts_all.columns:\n",
    "    accs_body.append(1-qualityMACAPE(es[col][:'2006-04-30'],ts_all[col][:'2006-04-30'])[0])\n",
    "    accs_tail.append(1-qualityMACAPE(es[col]['2006-04-30':],ts_all[col]['2006-04-30':])[0])"
   ]
  },
  {
   "cell_type": "markdown",
   "metadata": {},
   "source": [
    "## Step 4.2\n",
    "Build the histogram of Accuracy distribution"
   ]
  },
  {
   "cell_type": "code",
   "execution_count": 65,
   "metadata": {
    "collapsed": false
   },
   "outputs": [
    {
     "data": {
      "image/png": "[encoded data removed]",
      "text/plain": [
       "<matplotlib.figure.Figure at 0x7fc34fad44d0>"
      ]
     },
     "metadata": {},
     "output_type": "display_data"
    },
    {
     "data": {
      "image/png": "[encoded data removed]",
      "text/plain": [
       "<matplotlib.figure.Figure at 0x7fc34d129990>"
      ]
     },
     "metadata": {},
     "output_type": "display_data"
    },
    {
     "data": {
      "image/png": "[encoded data removed]",
      "text/plain": [
       "<matplotlib.figure.Figure at 0x7fc34d6113d0>"
      ]
     },
     "metadata": {},
     "output_type": "display_data"
    },
    {
     "name": "stdout",
     "output_type": "stream",
     "text": [
      "Body acc 12.05.05-30.04.06: 0.21669238447\n",
      "Tail acc 30.04.06-13.06.06: 0.179029631742\n"
     ]
    }
   ],
   "source": [
    "accs_body=pd.Series(accs_body).dropna()\n",
    "accs_tail=pd.Series(accs_tail).dropna()\n",
    "\n",
    "bins=60\n",
    "\n",
    "def acc_dens(accs,bins):\n",
    "    dens=np.zeros(bins)\n",
    "    interval=[-1.0,0.73]\n",
    "    ac=[]\n",
    "    for i in range(bins):\n",
    "        a=interval[0]+(interval[1]-interval[0])*i/bins\n",
    "        b=interval[0]+(interval[1]-interval[0])*(i+1)/bins\n",
    "        for acc in accs:\n",
    "            if acc>a and acc<=b:\n",
    "                dens[i]+=1\n",
    "        ac.append(a)\n",
    "    dens=dens/dens.sum()\n",
    "    return dens, ac\n",
    "\n",
    "plt.bar(acc_dens(accs_body,bins)[1], acc_dens(accs_body,bins)[0],width=0.03,label='Body')\n",
    "plt.bar(acc_dens(accs_tail,bins)[1], acc_dens(accs_tail,bins)[0],width=0.03,label='Tail',color='r')\n",
    "plt.legend()\n",
    "plt.show()\n",
    "\n",
    "plt.bar(acc_dens(accs_tail,bins)[1], acc_dens(accs_tail,bins)[0],width=0.03,label='Tail',color='r')\n",
    "plt.bar(acc_dens(accs_body,bins)[1], acc_dens(accs_body,bins)[0],width=0.03,label='Body')\n",
    "plt.legend()\n",
    "plt.show()\n",
    "\n",
    "plt.bar(acc_dens(accs_body,bins)[1], acc_dens(accs_body,bins)[0]-acc_dens(accs_tail,bins)[0],width=0.03,label='Body-Tail')\n",
    "plt.legend()\n",
    "plt.show()\n",
    "\n",
    "\n",
    "print('Body acc 12.05.05-30.04.06: '+str(accs_body.mean()))\n",
    "print('Tail acc 30.04.06-13.06.06: '+str(accs_tail.mean()))"
   ]
  },
  {
   "cell_type": "markdown",
   "metadata": {},
   "source": [
    "## Step 4.3\n",
    "The barchart for unused data (the last one) has higher probability of accuracies more than 0 (normed arround 0.25). "
   ]
  }
 ],
 "metadata": {
  "anaconda-cloud": {},
  "kernelspec": {
   "display_name": "Python 2",
   "language": "python",
   "name": "python2"
  },
  "language_info": {
   "codemirror_mode": {
    "name": "ipython",
    "version": 2
   },
   "file_extension": ".py",
   "mimetype": "text/x-python",
   "name": "python",
   "nbconvert_exporter": "python",
   "pygments_lexer": "ipython2",
   "version": "2.7.13"
  }
 },
 "nbformat": 4,
 "nbformat_minor": 0
}
