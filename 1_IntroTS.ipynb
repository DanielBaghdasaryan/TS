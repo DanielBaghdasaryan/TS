{
 "cells": [
  {
   "cell_type": "markdown",
   "metadata": {},
   "source": [
    "<span style=\"font-size: 14pt\">EREVAN, May-June 2017</span>\n",
    "\n",
    "<span style=\"font-size: 16pt\"> Seminar #1: Inroduction into Time Series Analysis\n",
    "\n",
    "<span style=\"color:blue; font-size: 12pt\">Alexey Romanenko </span>,\n",
    "<span style=\"color:blue; font-size: 12pt; font-family: 'Verdana'\">alexromsput@gmail.com</span>"
   ]
  },
  {
   "cell_type": "markdown",
   "metadata": {},
   "source": [
    "###### <h3> Plan </h3>\n",
    "  * **Remind: Regression**\n",
    "  * **Autoregression Model**\n",
    "  * **HW** "
   ]
  },
  {
   "cell_type": "code",
   "execution_count": 1,
   "metadata": {
    "collapsed": false
   },
   "outputs": [],
   "source": [
    "import pandas as pd\n",
    "import numpy as np\n",
    "import matplotlib.pyplot as plt\n",
    "from datetime import datetime, timedelta\n",
    "\n",
    "from sklearn.pipeline import Pipeline\n",
    "from sklearn.preprocessing import PolynomialFeatures\n",
    "from sklearn.linear_model import LinearRegression\n",
    "from sklearn import model_selection\n",
    "import scipy as sc\n",
    "\n",
    "%matplotlib inline"
   ]
  },
  {
   "cell_type": "markdown",
   "metadata": {},
   "source": [
    "<h1 align=\"center\"> Autoregression</h1>"
   ]
  },
  {
   "cell_type": "markdown",
   "metadata": {
    "collapsed": true
   },
   "source": [
    "## Data: energy consumption"
   ]
  },
  {
   "cell_type": "code",
   "execution_count": 2,
   "metadata": {
    "collapsed": false
   },
   "outputs": [
    {
     "data": {
      "text/html": [
       "<div>\n",
       "<style>\n",
       "    .dataframe thead tr:only-child th {\n",
       "        text-align: right;\n",
       "    }\n",
       "\n",
       "    .dataframe thead th {\n",
       "        text-align: left;\n",
       "    }\n",
       "\n",
       "    .dataframe tbody tr th {\n",
       "        vertical-align: top;\n",
       "    }\n",
       "</style>\n",
       "<table border=\"1\" class=\"dataframe\">\n",
       "  <thead>\n",
       "    <tr style=\"text-align: right;\">\n",
       "      <th></th>\n",
       "      <th>EnergyCons</th>\n",
       "      <th>Dev</th>\n",
       "      <th>WeekDay</th>\n",
       "    </tr>\n",
       "    <tr>\n",
       "      <th>Dates</th>\n",
       "      <th></th>\n",
       "      <th></th>\n",
       "      <th></th>\n",
       "    </tr>\n",
       "  </thead>\n",
       "  <tbody>\n",
       "    <tr>\n",
       "      <th>2005-01-01 00:00:00</th>\n",
       "      <td>1290</td>\n",
       "      <td>-11</td>\n",
       "      <td>6</td>\n",
       "    </tr>\n",
       "    <tr>\n",
       "      <th>2005-01-01 01:00:00</th>\n",
       "      <td>1266</td>\n",
       "      <td>-12</td>\n",
       "      <td>6</td>\n",
       "    </tr>\n",
       "    <tr>\n",
       "      <th>2005-01-01 02:00:00</th>\n",
       "      <td>1273</td>\n",
       "      <td>-13</td>\n",
       "      <td>6</td>\n",
       "    </tr>\n",
       "    <tr>\n",
       "      <th>2005-01-01 03:00:00</th>\n",
       "      <td>1280</td>\n",
       "      <td>-14</td>\n",
       "      <td>6</td>\n",
       "    </tr>\n",
       "    <tr>\n",
       "      <th>2005-01-01 04:00:00</th>\n",
       "      <td>1293</td>\n",
       "      <td>-15</td>\n",
       "      <td>6</td>\n",
       "    </tr>\n",
       "  </tbody>\n",
       "</table>\n",
       "</div>"
      ],
      "text/plain": [
       "                     EnergyCons  Dev  WeekDay\n",
       "Dates                                        \n",
       "2005-01-01 00:00:00        1290  -11        6\n",
       "2005-01-01 01:00:00        1266  -12        6\n",
       "2005-01-01 02:00:00        1273  -13        6\n",
       "2005-01-01 03:00:00        1280  -14        6\n",
       "2005-01-01 04:00:00        1293  -15        6"
      ]
     },
     "execution_count": 2,
     "metadata": {},
     "output_type": "execute_result"
    }
   ],
   "source": [
    "# Caution: different version of pandas needs differnt codes!!!\n",
    "# ts = pd.read_csv('consumption_train.csv', sep='\\t', decimal=',')\n",
    "ts = pd.read_csv('consumption_train.csv', sep='\\t', decimal='.', parse_dates=True, dayfirst=False, index_col='Dates') \n",
    "ts.head(5)"
   ]
  },
  {
   "cell_type": "markdown",
   "metadata": {},
   "source": [
    "<h1 align=\"center\"> Home Work 0</h1>"
   ]
  },
  {
   "cell_type": "markdown",
   "metadata": {},
   "source": [
    "## Answer to questions \n",
    "  ** 1. What is time series? **\n",
    "     \n",
    "     Time series is a a sequense of values of some variable, detected in a constant time interval.\n",
    "       \n",
    "  ** 2. What is delay and horizon of forecast?**\n",
    "  \n",
    " Let's call the data, which we use to make the prediction \"train data\".\n",
    " \n",
    " Horizon is a period of past time over which we collect train data.\n",
    " \n",
    " Delay is an interval between the time of prediction and the last time of train data.\n",
    "         \n",
    "  ** 3. What is Least Squared Method for Linear Regression?**\n",
    "  \n",
    "Least Squared Method is a method of finding the best coefficients (weights) of Linear Regression by minimization of loss function written as sum of squared errors. I.e.\n",
    "     \n",
    "If $x_i$ is the vector of features of $i$-th example. $y_i$ is the true value of $i$-th example. In LSM we minimize the follow function:\n",
    "\n",
    "$$\n",
    "L=\\sum_i\\left(\\left(\\alpha^Tx_i\\right)^2-y^2_i\\right)\\rightarrow min_\\alpha\n",
    "$$\n",
    "\n",
    "and find vector of weights $\\alpha$\n",
    "\n",
    "  ** 4. What is the solution of linear regression via LS method (in terms of matrix $X, \\alpha, Y$)? **\n",
    "\n",
    "The solution is:\n",
    "\n",
    "$$\n",
    "\\alpha=\\left(X^TX\\right)^{-1}X^TY\n",
    "$$\n",
    "\n",
    "where $X$ is the matrix of features, $Y$ is the vector of true values.\n",
    "          \n",
    "  ** 5. Write down main problems of LS method. **\n",
    "  \n",
    "1. LS method doesn't work if $\\left(X^TX\\right)^{-1}$ is a singular  matrix: $det\\left(X^TX\\right)=0$\n",
    "2. Weights are constant and doesn't depend on relations between features, which may be important. Sometimes (but not allways) we can solve this problem by adding different relations between features as new features.\n",
    "3. In case of TS LS method doesn't take into account seasonality. E.g. if in electricity consumption problem delay is 6 months, horizon is a week, linear combination of summer week need to be more than average (because we predict winter consumption), and wise versa linear combination of winter week need to be less than average, but it's inpossible due to same weights.\n",
    "\n",
    "          \n",
    "  ** 6. What hankel transformation of a matrix? **\n",
    "  \n",
    "Hankel transformation is the transformation of two vector to matrix in which:\n",
    "\n",
    "1. each element is equal to the element of the previous column of the next row\n",
    "2. first column is the first vector, last row is the second vector (last element of the first vector need to be equal to first element of the second vector)          "
   ]
  },
  {
   "cell_type": "markdown",
   "metadata": {},
   "source": [
    "## Practical Task\n",
    "Draw dependence of the cross_validation score (linear_regression.score) on the horizon of the forecast for LR model in the case of energy consumption forecasting. You should write code to show dependence for $h=1,2,\\dots, 720$. You can choose amount of regressors fo LR in experiment as much as you want.   "
   ]
  },
  {
   "cell_type": "code",
   "execution_count": 3,
   "metadata": {
    "collapsed": true
   },
   "outputs": [],
   "source": [
    "def get_autoregrmatrix(x,h,K):\n",
    "    L = len(x)\n",
    "    X = sc.linalg.hankel(x[:L-h-K+1], x[-K:])\n",
    "    y = x[K+h-1:]\n",
    "    return X,y"
   ]
  },
  {
   "cell_type": "code",
   "execution_count": 4,
   "metadata": {
    "collapsed": false
   },
   "outputs": [
    {
     "name": "stdout",
     "output_type": "stream",
     "text": [
      "ETA: 0.00264501659407 min\n",
      "Total time: 1.90442016522 min\n"
     ]
    }
   ],
   "source": [
    "from IPython import display\n",
    "import time\n",
    "fixed=168\n",
    "changing=721\n",
    "\n",
    "x_train = ts['EnergyCons'].ix['2005-01-01 00:00:00':'2006-01-01 00:00:00']\n",
    "x_test = ts['EnergyCons'].ix['2006-01-01 00:00:00':'2006-04-30 00:00:00']\n",
    "\n",
    "start=time.time()\n",
    "\n",
    "score1=[]\n",
    "for i in range(1,changing):\n",
    "    print(i)\n",
    "    X_train, y_train = get_autoregrmatrix(x_train,i,fixed)\n",
    "    X_test, y_test = get_autoregrmatrix(x_test,i,fixed)\n",
    "    linear_regression = LinearRegression()\n",
    "    linear_regression.fit(X_train,y_train)\n",
    "    score1.append(linear_regression.score(X_test, y_test))\n",
    "    display.clear_output(wait=True)\n",
    "    print(\"ETA: \"+str((time.time()-start)*(changing-i)/(i*60.0))+\" min\")\n",
    "\n",
    "print(\"Total time: \"+str((time.time()-start)/60.0)+\" min\")"
   ]
  },
  {
   "cell_type": "code",
   "execution_count": 5,
   "metadata": {
    "collapsed": false
   },
   "outputs": [
    {
     "name": "stdout",
     "output_type": "stream",
     "text": [
      "ETA: 0.0090060923828 min\n",
      "Total time: 6.48439551592 min\n"
     ]
    }
   ],
   "source": [
    "score2=[]\n",
    "for i in range(1,changing):\n",
    "    print(i)\n",
    "    X_train, y_train = get_autoregrmatrix(x_train,1,i)\n",
    "    X_test, y_test = get_autoregrmatrix(x_test,1,i)\n",
    "    linear_regression = LinearRegression()\n",
    "    linear_regression.fit(X_train,y_train)\n",
    "    score2.append(linear_regression.score(X_test, y_test))\n",
    "    display.clear_output(wait=True)\n",
    "    print(\"ETA: \"+str((time.time()-start)*(changing-i)/(i*60.0))+\" min\")\n",
    "\n",
    "print(\"Total time: \"+str((time.time()-start)/60.0)+\" min\")"
   ]
  },
  {
   "cell_type": "code",
   "execution_count": 7,
   "metadata": {
    "collapsed": false
   },
   "outputs": [
    {
     "data": {
      "image/png": "[encoded data removed]",
      "text/plain": [
       "<matplotlib.figure.Figure at 0x7fc8ee17e3d0>"
      ]
     },
     "metadata": {},
     "output_type": "display_data"
    },
    {
     "data": {
      "image/png": "[encoded data removed]",
      "text/plain": [
       "<matplotlib.figure.Figure at 0x7fc8edf51ed0>"
      ]
     },
     "metadata": {},
     "output_type": "display_data"
    }
   ],
   "source": [
    "plt.figure(figsize=(15,7))\n",
    "plt.plot(range(1,changing),score1)\n",
    "\n",
    "for i in range(1,5):\n",
    "    plt.axvline(x=168*i)\n",
    "    \n",
    "for i in range(1,30):\n",
    "    plt.axvline(x=24*i, c='30')\n",
    "    \n",
    "plt.title(\"Dependence of score on delay\")\n",
    "plt.show()\n",
    "\n",
    "plt.figure(figsize=(15,7))\n",
    "plt.plot(range(1,changing),score2)\n",
    "\n",
    "for i in range(1,5):\n",
    "    plt.axvline(x=168*i)\n",
    "    \n",
    "for i in range(1,30):\n",
    "    plt.axvline(x=24*i, c='30')\n",
    "    \n",
    "plt.title(\"Dependence of score on horizon\")\n",
    "plt.show()"
   ]
  },
  {
   "cell_type": "markdown",
   "metadata": {},
   "source": [
    "# Report:\n",
    "\n",
    "1. Accuracy goes down with delay increasing\n",
    "2. Accuracy sharply rise with horizon increasing until few days, then slow goes down\n",
    "3. There is double-level slow periodicity with a periods of a week and a day"
   ]
  }
 ],
 "metadata": {
  "anaconda-cloud": {},
  "kernelspec": {
   "display_name": "Python 2",
   "language": "python",
   "name": "python2"
  },
  "language_info": {
   "codemirror_mode": {
    "name": "ipython",
    "version": 2
   },
   "file_extension": ".py",
   "mimetype": "text/x-python",
   "name": "python",
   "nbconvert_exporter": "python",
   "pygments_lexer": "ipython2",
   "version": "2.7.13"
  }
 },
 "nbformat": 4,
 "nbformat_minor": 0
}
