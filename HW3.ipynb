{
 "cells": [
  {
   "cell_type": "markdown",
   "metadata": {},
   "source": [
    "<span style=\"font-size: 14pt\">EREVAN, May-June 2017</span>\n",
    "\n",
    "<span style=\"font-size: 16pt\"> HW #3: ARIMA model\n",
    "\n",
    "<span style=\"color:blue; font-size: 12pt\">Alexey Romanenko </span>,\n",
    "<span style=\"color:blue; font-size: 12pt; font-family: 'Verdana'\">alexromsput@gmail.com</span>\n",
    "\n",
    "\n",
    "<h1 align=\"center\"> Home Work 3 </h1>\n",
    "\n",
    "## Answer questions\n",
    "\n",
    "1) **Find equation for $y_t$ that corresponds to the following ARIMA model**:\n",
    " - 1) ARIMA $(p=0,d=k,q=1)$,\n",
    " - 2) ARIMA $(p=0,d=k+1,d=1)(P=1, D=1, Q=0)_s$,\n",
    "\n",
    "\n",
    "2)    ** Write canonic form of ARMA model for the time series **\n",
    " - 1) $$y_t = a_1 y_{t-1} + a_2 y_{t-4} - a_1 a_2 y_{t-5} + \\varepsilon_t$$ (Hint: seasnality period is equal to 4).\n",
    " - 2) $$y_t = y_{t-d} + \\varepsilon_t +b_2 + \\varepsilon_{t-2} + B_1 y_{t-s} + b_2 B_1 y_{t-s-2} $$\n",
    "\n",
    "    \n",
    "3) **Proof that ARIMA$(p=0,d=2, q=2)$ is equivalent to Holt (linear trend) with:**\n",
    "\t\t$$(1-L)^2Y_t = (1-\\phi_1 L-\\phi_2 L^2)\\varepsilon_t$$\n",
    "\t\t$$\\phi_1 = 2-\\alpha-\\alpha\\beta, \\text{ }\\phi_2 = \\alpha-1$$\n",
    "\n"
   ]
  },
  {
   "cell_type": "markdown",
   "metadata": {},
   "source": [
    "## Answer 1\n",
    "\n",
    "#### 1\n",
    "ARIMA $(p=0,d=k,q=1)$\n",
    "$$(1-B)^ky_t=c+(1+\\theta B)e_t$$\n",
    "\n",
    "#### 2\n",
    "ARIMA $(p=0,d=k+1,d=1)(P=1, D=1, Q=0)_s$\n",
    "$$(1-\\Phi B^s)(1-B)^{k+1}(1-B^s)y_t=(1+\\theta B)e_t$$"
   ]
  },
  {
   "cell_type": "markdown",
   "metadata": {},
   "source": [
    "## Answer 2\n",
    "\n",
    "#### 1\n",
    "$$y_t = a_1 y_{t-1} + a_2 y_{t-4} - a_1 a_2 y_{t-5} + \\varepsilon_t$$\n",
    "$$(1-a_1B)(1-a_2B^4)y_t = e_t$$\n",
    "$$ARMA(p=1,q=0)(P=1,Q=0)_4$$\n",
    "\n",
    "#### 2\n",
    "$$y_t = y_{t-d} + e_t +b_2e_{t-2} + B_1 e_{t-s} + b_2 B_1 e_{t-s-2} $$\n",
    "$$(1-B^d)y_t = (1+b_2B^2)(1+B_1B^s)e_t$$\n",
    "$$ARMA(p=d,q=2)(P=0,Q=1)_s$$\n"
   ]
  },
  {
   "cell_type": "markdown",
   "metadata": {
    "collapsed": true
   },
   "source": [
    "## Answer 3\n",
    "##### (If \"On the other hand\", see https://www.otexts.org/fpp/7/2)\n",
    "\n",
    "$$(1-L)^2Y_t = (1-\\phi_1 L-\\phi_2 L^2)e_t$$\n",
    "$(1-2L+L^2)Y_t = (1-\\phi_1 L-\\phi_2 L^2)e_t$\n",
    "\n",
    "$Y_t-2Y_{t-1}+Y_{t-2} = e_t-\\phi_1 e_{t-1}-\\phi_2 e_{t-2}$\n",
    "\n",
    "$Y_t =2Y_{t-1}-Y_{t-2}+ e_t-\\phi_1 e_{t-1}-\\phi_2 e_{t-2}\\quad\\quad EQ.1$\n",
    "<br /><br /><br />\n",
    "On the other hand:\n",
    "$$Y_t=l_{t-1}+b_{t-1}+e_t$$\n",
    "So:\n",
    "\n",
    "$$Y_{t-1}=l_{t-2}+b_{t-2}+e_{t-1}$$\n",
    "$$Y_{t-2}=l_{t-3}+b_{t-3}+e_{t-2}$$\n",
    "Put it in EQ.1:\n",
    "\n",
    "$$l_{t-1}+b_{t-1}+e_t =2(l_{t-2}+b_{t-2}+e_{t-1})-(l_{t-3}+b_{t-3}+e_{t-2})+ e_t-\\phi_1 e_{t-1}-\\phi_2 e_{t-2}$$\n",
    "\n",
    "$$l_{t-1}+b_{t-1} =2(l_{t-2}+b_{t-2}+e_{t-1})-(l_{t-3}+b_{t-3}+e_{t-2})-\\phi_1 e_{t-1}-\\phi_2 e_{t-2}$$\n",
    "\n",
    "On the other hand:\n",
    "$$l_t=l_{t-1}+b_{t-1}+\\alpha e_t$$\n",
    "\n",
    "$$l_{t-1}+b_{t-1}=l_t-\\alpha e_t$$\n",
    "So:\n",
    "$$l_{t-1}+b_{t-1} =2(l_{t-1}+(1-\\alpha)e_{t-1})-(l_{t-2}+(1-\\alpha)e_{t-2})-\\phi_1 e_{t-1}-\\phi_2 e_{t-2}$$\n",
    "\n",
    "$$b_{t-1} =l_{t-1}+2(1-\\alpha)e_{t-1}-l_{t-2}-(1-\\alpha)e_{t-2}-\\phi_1 e_{t-1}-\\phi_2 e_{t-2}$$\n",
    "\n",
    "$$b_{t-1} =l_{t-1}-l_{t-2}+(2-2\\alpha-\\phi_1)e_{t-1}-(1-\\alpha-\\phi_2)e_{t-2}$$\n",
    "\n",
    "On the other hand:\n",
    "$$l_{t-1}-l_{t-2}=b_{t-2}+\\alpha e_{t-1}$$\n",
    "So:\n",
    "$$b_{t-1} =b_{t-2}+\\alpha e_{t-1}+(2-2\\alpha-\\phi_1)e_{t-1}-(1-\\alpha-\\phi_2)e_{t-2}$$\n",
    "\n",
    "$$b_{t-1} =b_{t-2}+(2-\\alpha-\\phi_1)e_{t-1}-(1-\\alpha-\\phi_2)e_{t-2}$$\n",
    "\n",
    "On the other hand:\n",
    "$$b_{t-1}=b_{t-2}+\\alpha\\beta e_{t-1}$$\n",
    "$$b_{t-2}=b_{t-1}-\\alpha\\beta e_{t-1}$$\n",
    "\n",
    "So:\n",
    "$$0 =-\\alpha\\beta e_{t-1}+(2-\\alpha-\\phi_1)e_{t-1}-(1-\\alpha-\\phi_2)e_{t-2}$$\n",
    "\n",
    "$$0 =(2-\\alpha-\\alpha\\beta-\\phi_1)e_{t-1}-(1-\\alpha-\\phi_2)e_{t-2}$$\n",
    "\n",
    "$$\\phi_1=2-\\alpha-\\alpha\\beta$$\n",
    "\n",
    "$$\\phi_2=1-\\alpha$$"
   ]
  }
 ],
 "metadata": {
  "anaconda-cloud": {},
  "kernelspec": {
   "display_name": "Python 2",
   "language": "python",
   "name": "python2"
  },
  "language_info": {
   "codemirror_mode": {
    "name": "ipython",
    "version": 2
   },
   "file_extension": ".py",
   "mimetype": "text/x-python",
   "name": "python",
   "nbconvert_exporter": "python",
   "pygments_lexer": "ipython2",
   "version": "2.7.13"
  }
 },
 "nbformat": 4,
 "nbformat_minor": 1
}
