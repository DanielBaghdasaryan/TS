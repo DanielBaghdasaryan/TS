{
 "cells": [
  {
   "cell_type": "markdown",
   "metadata": {},
   "source": [
    "<span style=\"font-size: 14pt\">EREVAN, May-June 2017</span>\n",
    "\n",
    "<span style=\"font-size: 16pt\"> Practice day #1: ES models </span>\n",
    "\n",
    "<span style=\"color:blue; font-size: 12pt\">Alexey Romanenko </span>,\n",
    "<span style=\"color:blue; font-size: 12pt; font-family: 'Verdana'\">alexromsput@gmail.com</span>"
   ]
  },
  {
   "cell_type": "markdown",
   "metadata": {},
   "source": [
    "<h1 align=\"center\">Info</h1> \n",
    "This is first laboratory task for the course TSA.\n",
    "The Lab is desinged to impove skills of tuning parameters of ES models and get experience of coding of simple Regression Models.\n",
    "\n",
    "The Lab should take about 5-6 hours to be completed.\n",
    "\n",
    "<h1 align=\"center\">Important Info</h1> \n",
    "- <span style=\"font-size: 14pt;\"> You must send your solution to the email </span> <span style=\"color:red; font-size: 12pt;\">alexromsput@gmail.com, </span>\n",
    "- The theme of your message must be <span style=\"color:red; font-size: 12pt;\"> TSA-Erevan-2017-[Your Surname] </span>, for exmaple -- TSA-Erevan-2017-Romanenko,\n",
    "- The file in attachment of the letter must be named as <span style=\"color:red; font-size: 12pt;\"> [Surname]-[Group]-Lab1.ipnb</span>, for example -- Romanenko-Evening-Lab1.ipnb,\n",
    "  \n",
    "<span style=\"color:red; font-size: 14pt;\"> DEADLINE: 7 June 2017 23:59:59 </span>\n"
   ]
  },
  {
   "cell_type": "markdown",
   "metadata": {},
   "source": [
    "<h1 align=\"center\">1. Realization of ES models(50%)</h1>\n",
    "Solve the task fo Prcatice Day 1 and put you solution (that means cells and outputs) below"
   ]
  },
  {
   "cell_type": "markdown",
   "metadata": {
    "collapsed": true
   },
   "source": [
    "Link to Prcatice Day 1\n",
    "https://github.com/DanielBaghdasaryan/TS/blob/master/Practice%20Day%20Task.ipynb"
   ]
  },
  {
   "cell_type": "markdown",
   "metadata": {},
   "source": [
    "<h1 align=\"center\">2. Forecasting real TS (50%)</h1>\n",
    "\n",
    "* I.   Download datasets (see Student ID in sheet 'Notes' <a href=\"https://drive.google.com/open?id=11-lzxxR0aeBmEDGEW1GiIaP4X3fyCTHxTg4b0wALpzs\">here </a>) and put it into pandas Data Frame:\n",
    "     - for those whose Student ID = 0 mod 3 - <span style=\"color:blue; font-family:'New Times Roman'; font-size:14pt\">TS_dep36.csv</span> \n",
    "     - for those whose Student ID = 1 mod 3 - <span style=\"color:blue; font-family:'New Times Roman'; font-size:14pt\">TS_dep42.csv</span> \n",
    "     - for those whose Student ID = 2 mod 3 - <span style=\"color:blue; font-family:'New Times Roman'; font-size:14pt\">TS_dep6.csv </span>\n",
    "     \n",
    "<a href='https://1drv.ms/f/s!AqGgzb5T4tvShZ1-xS0s6FhP5x-05g'>link to the folder with datasets</a>\n",
    "\n",
    "Answer questions: are there TS with seaonality in data? which is the seasonality period?\n",
    "(Hint: you just need to look at aggregate data by each shop).\n",
    "\n",
    "* II. Define the beginning of the history and the end of the history of TS (for TS_dep36.csv the beginning is 12.05.2005, the end is 13.06.2006)\n",
    "    \n",
    "* III. For TS_dep36.csv Find the best ES algorithm (it means ES model + its optimal parameters) for each TS by next sheme:\n",
    "     \n",
    "     \n",
    "     - 0) Use only following ES models: IES (see seminar 2), AES (see seminar 2), Winters with additive seasonality (see Practice Day 1 task 3), Theil-Wage (see Practice Day 1 task 4).\n",
    "     \n",
    "     \n",
    "     - 1) forecasting delay $h = 1$, loss function is MACAPE;\n",
    "     \n",
    "     \n",
    "     - 2) For all models find optimal params of each ES models using first 75% of dates (for TS_dep36.csv from 12.05.2005 to 12.03.2006);\n",
    "     \n",
    "     \n",
    "     - 3) forecast each TS by each ES Model with optimal params using first 90% of dates (for TS_dep36.csv from 12.05.2005 to 30.04.2006);\n",
    "     - 4) find the optimal ES algorithm: just compare losses of ES models with optimal params calclated for dates that were not used for tuning parameters (for TS_dev36.csv: from 13.03.2006 to 30.04.2006).\n",
    "    \n",
    "    You need to remember optimal ES algorithm for each TS!\n",
    "    \n",
    "     - 5) Build barchar (histogram) of losses of optimal ES algorithm (were calulated at step before) for all TS (axis x - value of loss, axis y - percentage of TS that have such loss). Here you must exclude those TS which has only NaNs in period under consideration.\n",
    "            \n",
    "* IV. Calculate Forecast for each TS by optimal TS algorithm that you find in step 3 for all dates (for TS_dep36.csv from 12.05.2005 to 13.06.2006). \n",
    "\n",
    "       \n",
    "     - 1) Measure accuracy (loss) of forecast for each TS using dates that were not used in step 2)-3) (for TS_dep36.csv from 12.05.2005 to 12.03.2006), here you must exclude those TS which has only NaNs in the end.\n",
    "    \n",
    "     - 2) Build barchar (histogram) of losses of optimal ES algorithm for all TS (axis x - value of loss, axis y - percentage of TS that has such loss), here you must exclude those TS which has only NaNs in period under consideration.\n",
    "\n",
    "     - 3) Are barcharts calculated in step III.4) and in step IV.2) the same? If they differ than say in what manner."
   ]
  },
  {
   "cell_type": "markdown",
   "metadata": {},
   "source": [
    "<h1 align=\"center\">I</h1>\n",
    "The data is downloaded.\n",
    "\n",
    "I'll answer the question after II"
   ]
  },
  {
   "cell_type": "markdown",
   "metadata": {},
   "source": [
    "<h1 align=\"center\">II</h1>"
   ]
  },
  {
   "cell_type": "code",
   "execution_count": 1,
   "metadata": {
    "collapsed": false
   },
   "outputs": [
    {
     "name": "stderr",
     "output_type": "stream",
     "text": [
      "/home/daniel/.local/lib/python2.7/site-packages/statsmodels/compat/pandas.py:56: FutureWarning: The pandas.core.datetools module is deprecated and will be removed in a future version. Please use the pandas.tseries module instead.\n",
      "  from pandas.core import datetools\n"
     ]
    }
   ],
   "source": [
    "import pandas as pd\n",
    "import math\n",
    "import numpy as np\n",
    "from datetime import datetime, timedelta\n",
    "import matplotlib.pyplot as plt\n",
    "from IPython import display\n",
    "import statsmodels.api as sm"
   ]
  },
  {
   "cell_type": "code",
   "execution_count": 23,
   "metadata": {
    "collapsed": false
   },
   "outputs": [
    {
     "name": "stderr",
     "output_type": "stream",
     "text": [
      "/home/daniel/.local/lib/python2.7/site-packages/ipykernel_launcher.py:9: FutureWarning: convert_objects is deprecated.  Use the data-type specific converters pd.to_datetime, pd.to_timedelta and pd.to_numeric.\n",
      "  if __name__ == '__main__':\n"
     ]
    },
    {
     "data": {
      "image/png": "[encoded data removed]",
      "text/plain": [
       "<matplotlib.figure.Figure at 0x7f516b53cfd0>"
      ]
     },
     "metadata": {},
     "output_type": "display_data"
    }
   ],
   "source": [
    "%matplotlib inline\n",
    "# Read data\n",
    "ts = pd.read_csv('TS_dep36.csv', sep=';', index_col='Timestamp', parse_dates=True, dayfirst=True)\n",
    "\n",
    "# START Clean data\n",
    "ts_trimed = pd.read_csv('TS_dep36.csv', sep=';', index_col='Timestamp', parse_dates=True, dayfirst=True).dropna()\n",
    "for col in ts.columns: \n",
    "    try:\n",
    "        if ',' in np.array(ts_trimed[col]).sum():\n",
    "            ts[col]=ts[col].str.replace(',','.').convert_objects(convert_numeric=True)\n",
    "    except:\n",
    "        continue\n",
    "# END Clean data\n",
    "\n",
    "for col in ts.columns:\n",
    "    ts[col].plot(figsize=(15,3))\n",
    "    plt.title(col)\n",
    "    plt.show()\n",
    "    break # If you remove 'break', you will see that all TS-s ploted correctly, that means datas ready to use."
   ]
  },
  {
   "cell_type": "markdown",
   "metadata": {},
   "source": [
    "##### Search seasonality using aggregated by items data"
   ]
  },
  {
   "cell_type": "code",
   "execution_count": 22,
   "metadata": {
    "collapsed": false
   },
   "outputs": [
    {
     "data": {
      "image/png": "[encoded data removed]",
      "text/plain": [
       "<matplotlib.figure.Figure at 0x7f5170448a50>"
      ]
     },
     "metadata": {},
     "output_type": "display_data"
    }
   ],
   "source": [
    "ts_aggregate=ts.replace(np.nan,0)\n",
    "ts_aggregate=ts_aggregate.sum(axis=1)\n",
    "# ts_aggregate.plot(figsize=(15,3))\n",
    "\n",
    "fig = plt.figure(figsize=(15,8))\n",
    "ax2 = fig.add_subplot(212)\n",
    "fig = sm.graphics.tsa.plot_pacf(ts_aggregate.values.squeeze(), lags=50, ax=ax2)\n",
    "plt.show()"
   ]
  },
  {
   "cell_type": "markdown",
   "metadata": {},
   "source": [
    "### Answer:\n",
    "We can't notice any strong seasonality. In the future we will take a weak as a period. The same thing is with separate dates also. I don't show it for saving the space."
   ]
  },
  {
   "cell_type": "markdown",
   "metadata": {},
   "source": [
    "<br /><br /><br />\n",
    "<h1 align=\"center\">III</h1>"
   ]
  },
  {
   "cell_type": "markdown",
   "metadata": {},
   "source": [
    "## Step 0"
   ]
  },
  {
   "cell_type": "markdown",
   "metadata": {
    "collapsed": true
   },
   "source": [
    "#### Models"
   ]
  },
  {
   "cell_type": "code",
   "execution_count": 21,
   "metadata": {
    "collapsed": false
   },
   "outputs": [],
   "source": [
    "def InitExponentialSmoothing(x, h, Params):\n",
    "    T = len(x)\n",
    "    alpha = Params['alpha']\n",
    "    AdaptationPeriod=Params['AdaptationPeriod']\n",
    "    FORECAST = [np.NaN]*(T+h)\n",
    "    if alpha>1:\n",
    "        w.warn('Alpha can not be more than 1')\n",
    "        #alpha = 1\n",
    "        return FORECAST\n",
    "    if alpha<0:\n",
    "        w.warn('Alpha can not be less than 0')\n",
    "        #alpha = 0\n",
    "        return FORECAST\n",
    "    y = x[0]\n",
    "    t0=0\n",
    "    for t in range(0, T):\n",
    "        if not math.isnan(x[t]):\n",
    "            if math.isnan(y):\n",
    "                y=x[t]\n",
    "                t0=t\n",
    "            if (t-t0+1)<AdaptationPeriod:\n",
    "                y = y*(1-alpha)*(t-t0+1)/(AdaptationPeriod) + (1-(1-alpha)*(t-t0+1)/(AdaptationPeriod))*x[t]\n",
    "            else:\n",
    "                y = y*(1-alpha) + alpha*x[t]\n",
    "            #else do not nothing\n",
    "        FORECAST[t+h] = y\n",
    "    return FORECAST\n",
    "\n",
    "def AdaptiveExponentialSmoothing(x, h, Params):\n",
    "    T = len(x)\n",
    "    alpha = Params['alpha']\n",
    "    gamma = Params['gamma']\n",
    "    AdaptationPeriod=Params['AdaptationPeriod']\n",
    "    FORECAST = [np.NaN]*(T+h)\n",
    "    if alpha>1:\n",
    "        w.warn('Alpha can not be more than 1')\n",
    "        #alpha = 1\n",
    "        return FORECAST\n",
    "    if alpha<0:\n",
    "        w.warn('Alpha can not be less than 0')\n",
    "        #alpha = 0\n",
    "        return FORECAST\n",
    "    y = np.NaN\n",
    "    t0= np.NaN\n",
    "    e1= np.NaN\n",
    "    e2= np.NaN\n",
    "    Kt_1 = alpha\n",
    "    K=alpha\n",
    "    for t in range(0, T):\n",
    "        if not math.isnan(x[t]):\n",
    "            if math.isnan(y):\n",
    "                y=x[t]\n",
    "                t0=t\n",
    "                e1=alpha\n",
    "                e2 = 1\n",
    "            else:\n",
    "                if (t-t0)<h:\n",
    "                    e1 = gamma*(x[t]-y)+(1-gamma)*e1\n",
    "                    e2 = gamma*np.abs(x[t]-y)+(1-gamma)*e2\n",
    "                else:\n",
    "                    e1 = gamma*(x[t]-FORECAST[t])+(1-gamma)*e1\n",
    "                    e2 = gamma*np.abs(x[t]-FORECAST[t])+(1-gamma)*e2\n",
    "            \n",
    "            if e2==0:\n",
    "                K=alpha\n",
    "            else:\n",
    "                K=np.abs(e1/e2)\n",
    "\n",
    "            alpha=Kt_1\n",
    "            Kt_1=K\n",
    "\n",
    "            if (t-t0+1)<AdaptationPeriod:\n",
    "                y = y*(1-alpha)*(t-t0+1)/(AdaptationPeriod) + (1-(1-alpha)*(t-t0+1)/(AdaptationPeriod))*x[t]\n",
    "            else:\n",
    "                y = y*(1-alpha) + (alpha)*x[t]\n",
    "        FORECAST[t+h] = y\n",
    "    return FORECAST\n",
    "\n",
    "def WintersExponentialSmoothing(x, h, Params):\n",
    "    T = len(x)\n",
    "    alpha = Params['alpha']\n",
    "    gamma = Params['gamma']\n",
    "    p = Params['seasonality_period']\n",
    "    \n",
    "    FORECAST = [np.NaN]*(T+h)\n",
    "    \n",
    "    l= np.NaN\n",
    "    s= []\n",
    "    for i in range(p):\n",
    "        if not math.isnan(x[i]):\n",
    "            s.append(x[i])\n",
    "        else:\n",
    "            s.append(s[i-1])\n",
    "    \n",
    "    for cntr in range(T):\n",
    "        if not math.isnan(x[cntr]):\n",
    "            if math.isnan(l):\n",
    "                l= x[cntr]\n",
    "            if len(s)==0:\n",
    "                for i in range(p):\n",
    "                    s.append(x[i])\n",
    "            if cntr<p:\n",
    "                l = alpha*(x[cntr]-s[cntr])+(1-alpha)*l # recurrent smoothing of level \n",
    "            else:\n",
    "                s_old=s[cntr%p]\n",
    "                s[cntr%p]=gamma*(x[cntr]-l)+(1-gamma)*s[cntr%p]\n",
    "                l = alpha*(x[cntr]-s_old)+(1-alpha)*l # recurrent smoothing of level \n",
    "                \n",
    "                \n",
    "        FORECAST[cntr+h] = l + s[(cntr+1)%p]\n",
    "    return FORECAST\n",
    "\n",
    "def TWExponentialSmoothing(x, h, Params):\n",
    "    T = len(x)\n",
    "    alpha = Params['alpha']\n",
    "    beta = Params['beta']\n",
    "    gamma = Params['gamma']\n",
    "    p = Params['seasonality_period']\n",
    "    \n",
    "    FORECAST = [np.NaN]*(T+h)\n",
    "    \n",
    "    l= np.NaN\n",
    "    b=np.NaN\n",
    "    s= []\n",
    "    for i in range(p):\n",
    "        if not math.isnan(x[i]):\n",
    "            s.append(x[i])\n",
    "        else:\n",
    "            s.append(s[i-1])\n",
    "\n",
    "    for cntr in range(T):\n",
    "        if not math.isnan(x[cntr]):\n",
    "            if math.isnan(l):\n",
    "                l= x[cntr]\n",
    "            if math.isnan(b):\n",
    "                b= 0\n",
    "            if cntr<p:\n",
    "                l_old=l\n",
    "                l = alpha*(x[cntr]-s[cntr])+(1-alpha)*(l+b)\n",
    "                b=beta*(l-l_old)+(1-beta)*b\n",
    "            else:\n",
    "                l_old=l\n",
    "                s_old=s[cntr%p]\n",
    "                s[cntr%p]=gamma*(x[cntr]-l)+(1-gamma)*s[cntr%p]\n",
    "                l = alpha*(x[cntr]-s_old)+(1-alpha)*(l+b) # recurrent smoothing of level \n",
    "                b=beta*(l-l_old)+(1-beta)*b\n",
    "            \n",
    "        FORECAST[cntr+h] = l+b + s[(cntr+h)%p]\n",
    "    return FORECAST"
   ]
  },
  {
   "cell_type": "markdown",
   "metadata": {},
   "source": [
    "<br /><br />\n",
    "## Step 1\n",
    "\n",
    "#### Loss function"
   ]
  },
  {
   "cell_type": "code",
   "execution_count": 9,
   "metadata": {
    "collapsed": false
   },
   "outputs": [],
   "source": [
    "def qualityMACAPE(x,y):\n",
    "    qlt = (2*(x-y).abs()/(x+y)).abs().replace([np.inf, -np.inf], np.nan)\n",
    "    return qlt.mean() , (x-y).abs()\n"
   ]
  },
  {
   "cell_type": "markdown",
   "metadata": {},
   "source": [
    "<br /><br />\n",
    "## Step 2\n",
    "\n",
    "* I use the data from '2005-05-12'-'2006-03-12'. For each model I find best params for EACH of TS and save values in corresponding .csv files (see that directory https://github.com/DanielBaghdasaryan/TS/tree/master/params).\n",
    "\n",
    "* For finding best params i use 11 values in [0,1].\n",
    "\n",
    "* In IES and AES I use \"Adaptation period\"=10. But the results for values from 5 to 10 are almost same.\n",
    "\n",
    "* In the models with more than one params (AES, WES, TWES), I use the method of sequentual approximations. I.e. e.g. for WES\n",
    "\n",
    "    1. initialize any $\\alpha$-s and $\\gamma$-s\n",
    "    \n",
    "    2. for initialised $\\alpha$-s find best $\\gamma$-s and vice versa\n",
    "    \n",
    "    3. for new $\\alpha$-s find best $\\gamma$-s and vice versa\n",
    "    \n",
    "    4. do it untill mean_LF(new $\\alpha$-s and previous $\\gamma$-s)=mean_LF(previous $\\alpha$-s and new $\\gamma$-s), and both stop changes"
   ]
  },
  {
   "cell_type": "code",
   "execution_count": 10,
   "metadata": {
    "collapsed": false
   },
   "outputs": [],
   "source": [
    "ts_par=ts['2005-05-12':'2006-03-12']\n",
    "line=np.linspace(0,1,11)\n",
    "\n",
    "h = 1\n",
    "start = ts_par.index[-1]+timedelta(1)\n",
    "end = ts_par.index[-1]+timedelta(h)\n",
    "rng = pd.date_range(start, end)\n",
    "\n",
    "best=np.zeros([len(ts.columns),4,3])\n",
    "ies = pd.DataFrame(index = ts_par.index.append(rng), columns = ts.columns)\n",
    "aes = pd.DataFrame(index = ts_par.index.append(rng), columns = ts.columns)\n",
    "w = pd.DataFrame(index = ts_par.index.append(rng), columns = ts.columns)\n",
    "tw = pd.DataFrame(index = ts_par.index.append(rng), columns = ts.columns)"
   ]
  },
  {
   "cell_type": "markdown",
   "metadata": {},
   "source": [
    "#### IES"
   ]
  },
  {
   "cell_type": "code",
   "execution_count": 23,
   "metadata": {
    "collapsed": false
   },
   "outputs": [
    {
     "name": "stdout",
     "output_type": "stream",
     "text": [
      "10\n",
      "104\n"
     ]
    }
   ],
   "source": [
    "j=0\n",
    "accs=[]\n",
    "for alpha in line:\n",
    "    accs.append([])\n",
    "    i=0\n",
    "    for col in ts.columns:\n",
    "        print(j)\n",
    "        print(i)\n",
    "        display.clear_output(wait=True)\n",
    "        ies[col] = InitExponentialSmoothing(ts_par[col], h, {'alpha':alpha, 'AdaptationPeriod': 10})\n",
    "        accs[j].append(1-qualityMACAPE(ies[col],ts_par[col])[0])\n",
    "        i+=1\n",
    "    j+=1"
   ]
  },
  {
   "cell_type": "code",
   "execution_count": 24,
   "metadata": {
    "collapsed": false
   },
   "outputs": [
    {
     "name": "stdout",
     "output_type": "stream",
     "text": [
      "IES alphas:\n",
      "[ 0.   0.1  0.1  0.1  0.   0.1  0.1  0.   0.   0.   0.1  0.   0.1  0.1  0.\n",
      "  0.1  0.1  0.   0.1  0.1  0.1  0.   0.   0.1  0.   0.1  0.1  0.1  0.   0.1\n",
      "  0.1  0.   0.1  1.   0.   0.1  0.1  0.1  0.1  0.1  0.2  0.   0.   0.   0.\n",
      "  0.1  0.   0.1  0.   0.1  0.1  0.1  0.   0.1  0.   0.1  0.1  0.1  0.1  0.1\n",
      "  0.   0.   0.1  0.1  0.1  1.   1.   0.1  0.1  0.1  0.1  0.1  0.1  0.1  0.1\n",
      "  0.1  0.1  1.   0.   1.   0.1  0.1  0.1  0.1  1.   0.1  0.1  0.1  0.1  0.1\n",
      "  0.1  0.1  0.   0.1  0.1  0.1  0.1  1.   1.   0.1  0.2  0.1  0.1  0.1  0.1]\n",
      "0.256956480128\n"
     ]
    }
   ],
   "source": [
    "ies_accs=np.array(accs)\n",
    "arg_max_accs=np.argmax(accs, axis=0)\n",
    "ies_alphas=line[arg_max_accs]\n",
    "print(\"IES alphas:\\n\"+str(ies_alphas))\n",
    "print(ies_accs.max(axis=0).mean())\n",
    "\n",
    "ies_alphas = pd.Series(ies_alphas)\n",
    "ies_alphas.to_csv('params/ies_alphas.csv')"
   ]
  },
  {
   "cell_type": "markdown",
   "metadata": {},
   "source": [
    "#### AES"
   ]
  },
  {
   "cell_type": "code",
   "execution_count": 96,
   "metadata": {
    "collapsed": true
   },
   "outputs": [],
   "source": [
    "aes_alphas=np.ones(len(ts.columns))/10.0\n",
    "aes_gammas=np.ones(len(ts.columns))/10.0"
   ]
  },
  {
   "cell_type": "code",
   "execution_count": 104,
   "metadata": {
    "collapsed": false
   },
   "outputs": [
    {
     "name": "stdout",
     "output_type": "stream",
     "text": [
      "gamma\n",
      "10\n",
      "104\n"
     ]
    }
   ],
   "source": [
    "# j=0\n",
    "# accs1=[]\n",
    "# for alpha in line:\n",
    "#     accs1.append([])\n",
    "#     i=0\n",
    "#     for col in ts.columns:\n",
    "#         print(j)\n",
    "#         print(i)\n",
    "#         display.clear_output(wait=True)\n",
    "#         aes[col] = AdaptiveExponentialSmoothing(ts_par[col], h, {'alpha':alpha, 'gamma': aes_gammas[i], 'AdaptationPeriod':10})\n",
    "#         accs1[j].append(1-qualityMACAPE(aes[col],ts_par[col])[0])\n",
    "#         i+=1\n",
    "#     j+=1\n",
    "\n",
    "# j=0\n",
    "accs2=[]\n",
    "for gamma in line:\n",
    "    accs2.append([])\n",
    "    i=0\n",
    "    for col in ts.columns:\n",
    "        print('gamma')\n",
    "        print(j)\n",
    "        print(i)\n",
    "        display.clear_output(wait=True)\n",
    "        aes[col] = AdaptiveExponentialSmoothing(ts_par[col], h, {'alpha':aes_alphas[i], 'gamma': gamma, 'AdaptationPeriod':10})\n",
    "        accs2[j].append(1-qualityMACAPE(aes[col],ts_par[col])[0])\n",
    "        i+=1\n",
    "    j+=1"
   ]
  },
  {
   "cell_type": "code",
   "execution_count": 105,
   "metadata": {
    "collapsed": false
   },
   "outputs": [],
   "source": [
    "aes_accs1=np.array(accs1)\n",
    "arg_max_accs1=np.argmax(aes_accs1, axis=0)\n",
    "aes_alphas=line[arg_max_accs1]\n",
    "\n",
    "aes_accs2=np.array(accs2)\n",
    "arg_max_accs2=np.argmax(aes_accs2, axis=0)\n",
    "aes_gammas=line[arg_max_accs2]\n",
    "\n",
    "aes_alphas = pd.Series(aes_alphas)\n",
    "aes_alphas.to_csv('params/aes_alphas.csv'.format(i))\n",
    "\n",
    "aes_gammas = pd.Series(aes_gammas)\n",
    "aes_gammas.to_csv('params/aes_gammas.csv'.format(i))"
   ]
  },
  {
   "cell_type": "code",
   "execution_count": 106,
   "metadata": {
    "collapsed": false
   },
   "outputs": [
    {
     "name": "stdout",
     "output_type": "stream",
     "text": [
      "AES alphas:\n",
      "[ 0.   0.1  0.1  0.1  0.   0.1  0.1  0.   0.   0.   0.1  0.   0.1  0.1  0.\n",
      "  0.1  0.1  0.   0.1  0.1  0.1  0.   0.   0.1  0.   0.1  0.1  0.1  0.   0.1\n",
      "  0.1  0.   0.1  1.   0.   0.1  0.1  0.1  0.1  0.1  0.2  0.   0.   0.   0.\n",
      "  0.1  0.   0.1  0.   0.1  0.1  0.1  0.   0.1  0.   0.1  0.1  0.1  0.1  0.1\n",
      "  0.   0.   0.1  0.1  0.1  0.   0.   0.1  0.1  0.1  0.1  0.1  0.1  0.1  0.1\n",
      "  0.1  0.   1.   0.   0.2  0.1  0.1  0.1  0.1  1.   0.1  0.1  0.1  0.1  0.1\n",
      "  0.1  0.1  0.   0.1  0.1  0.1  0.1  0.   0.   0.1  0.2  0.1  0.1  0.1  0.1]\n",
      "AES gammas:\n",
      "[ 0.   0.   0.   0.   0.   0.   0.   0.   0.   0.   0.   0.   0.   0.   0.\n",
      "  0.   0.   0.   0.   0.   0.   0.   0.   0.   0.   0.   0.   0.   0.   0.\n",
      "  0.   0.   0.   0.   0.   0.   0.   0.   0.   0.   0.   0.   0.   0.   0.\n",
      "  0.   0.   0.   0.   0.   0.   0.   0.   0.   0.   0.   0.   0.   0.   0.\n",
      "  0.   0.   0.   0.   0.   1.   1.   0.   0.   0.   0.   0.   0.   0.   0.\n",
      "  0.   0.1  0.   0.   1.   0.   0.   0.   0.   0.   0.   0.   0.   0.   0.\n",
      "  0.   0.   0.   0.   0.   0.   0.   0.2  1.   0.   0.   0.   0.   0.   0. ]\n",
      "\n",
      "\n",
      "0.257532812509\n",
      "0.257993587808\n"
     ]
    }
   ],
   "source": [
    "print(\"AES alphas:\\n\"+str(np.array(aes_alphas)))\n",
    "print(\"AES gammas:\\n\"+str(np.array(aes_gammas)))\n",
    "\n",
    "print('\\n')\n",
    "print(aes_accs1.max(axis=0).mean())\n",
    "# plt.plot(range(len(ts.columns)),accs1.max(axis=0))\n",
    "# plt.show()\n",
    "print(aes_accs2.max(axis=0).mean())\n",
    "# plt.plot(range(len(ts.columns)),accs2.max(axis=0))\n",
    "# plt.show()"
   ]
  },
  {
   "cell_type": "markdown",
   "metadata": {},
   "source": [
    "#### WES"
   ]
  },
  {
   "cell_type": "code",
   "execution_count": 108,
   "metadata": {
    "collapsed": true
   },
   "outputs": [],
   "source": [
    "w_alphas=np.ones(len(ts.columns))/10.0\n",
    "w_gammas=np.ones(len(ts.columns))/10.0"
   ]
  },
  {
   "cell_type": "code",
   "execution_count": 115,
   "metadata": {
    "collapsed": false
   },
   "outputs": [
    {
     "name": "stdout",
     "output_type": "stream",
     "text": [
      "10\n",
      "104\n"
     ]
    }
   ],
   "source": [
    "j=0\n",
    "accs1=[]\n",
    "for alpha in line:\n",
    "    accs1.append([])\n",
    "    i=0\n",
    "    for col in ts.columns:\n",
    "        print(j)\n",
    "        print(i)\n",
    "        display.clear_output(wait=True)\n",
    "        w[col] = WintersExponentialSmoothing(ts_par[col], h, {'alpha':alpha, 'gamma': w_gammas[i], 'seasonality_period':7})\n",
    "        accs1[j].append(1-qualityMACAPE(w[col],ts_par[col])[0])\n",
    "        i+=1\n",
    "    j+=1\n",
    "\n",
    "# j=0\n",
    "# accs2=[]\n",
    "# for gamma in line:\n",
    "#     accs2.append([])\n",
    "#     i=0\n",
    "#     for col in ts.columns:\n",
    "#         print('gamma')\n",
    "#         print(j)\n",
    "#         print(i)\n",
    "#         display.clear_output(wait=True)\n",
    "#         w[col] = WintersExponentialSmoothing(ts_par[col], h, {'alpha':w_alphas[i], 'gamma': gamma, 'seasonality_period':7})\n",
    "#         accs2[j].append(1-qualityMACAPE(w[col],ts_par[col])[0])\n",
    "#         i+=1\n",
    "#     j+=1"
   ]
  },
  {
   "cell_type": "code",
   "execution_count": 116,
   "metadata": {
    "collapsed": false
   },
   "outputs": [
    {
     "name": "stdout",
     "output_type": "stream",
     "text": [
      "WES alphas:\n",
      "[ 0.   0.   0.1  0.   0.   0.   0.   0.   0.   0.   0.   0.   0.   0.   0.1\n",
      "  0.   0.1  0.   0.1  0.   0.   0.   0.1  0.   0.   0.   0.   0.   0.   0.\n",
      "  0.   0.   0.   0.1  0.   0.1  0.   0.   0.1  0.   0.   0.1  0.   0.   0.\n",
      "  0.1  0.1  0.1  0.1  0.   0.1  0.   0.   0.   0.   0.   0.1  0.   0.   0.\n",
      "  0.   0.   0.   0.1  0.   0.   0.2  0.   0.1  0.1  0.1  0.1  0.   0.1  0.1\n",
      "  0.1  0.   0.1  0.1  0.1  0.1  0.1  0.1  0.1  0.2  0.1  0.   0.1  0.1  0.1\n",
      "  0.1  0.1  0.1  0.1  0.   0.1  0.1  1.   0.3  0.2  0.2  0.1  0.1  0.1  0.1]\n",
      "WES gammas:\n",
      "[ 0.2  0.2  0.2  0.3  0.1  0.3  0.1  0.1  0.1  0.1  0.1  0.1  0.1  0.1  0.1\n",
      "  0.1  0.1  0.1  0.   0.2  0.2  0.1  0.1  0.2  0.1  0.1  0.1  0.1  0.2  0.1\n",
      "  0.1  0.2  0.1  0.1  0.2  0.1  0.1  0.2  0.1  0.2  0.   0.1  0.2  0.1  0.1\n",
      "  0.2  0.1  0.2  0.1  0.3  0.2  0.1  0.1  0.1  0.1  0.1  0.1  0.1  0.1  0.3\n",
      "  0.1  0.1  0.2  0.1  0.3  0.1  0.1  0.2  0.2  0.2  0.1  0.1  0.2  0.1  0.1\n",
      "  0.   0.1  0.2  0.1  0.2  0.1  0.   0.1  0.1  0.1  0.1  0.1  0.1  0.2  0.1\n",
      "  0.2  0.1  0.2  0.2  0.1  0.1  0.1  0.   0.2  0.1  0.1  0.3  0.2  0.3  0.2]\n",
      "\n",
      "\n",
      "0.214512600947\n",
      "0.214512600947\n"
     ]
    }
   ],
   "source": [
    "w_accs1=np.array(accs1)\n",
    "arg_max_accs1=np.argmax(w_accs1, axis=0)\n",
    "w_alphas=line[arg_max_accs1]\n",
    "print(\"WES alphas:\\n\"+str(w_alphas))\n",
    "\n",
    "w_accs2=np.array(accs2)\n",
    "arg_max_accs2=np.argmax(w_accs2, axis=0)\n",
    "w_gammas=line[arg_max_accs2]\n",
    "print(\"WES gammas:\\n\"+str(w_gammas))\n",
    "\n",
    "w_alphas = pd.Series(w_alphas)\n",
    "w_alphas.to_csv('params/w_alphas.csv')\n",
    "\n",
    "w_gammas = pd.Series(w_gammas)\n",
    "w_gammas.to_csv('params/w_gammas.csv')\n",
    "\n",
    "\n",
    "print('\\n')\n",
    "print(w_accs1.max(axis=0).mean())\n",
    "# plt.plot(range(len(ts.columns)),w_accs1.max(axis=0))\n",
    "# plt.show()\n",
    "print(w_accs2.max(axis=0).mean())\n",
    "# plt.plot(range(len(ts.columns)),w_accs2.max(axis=0))\n",
    "# plt.show()"
   ]
  },
  {
   "cell_type": "markdown",
   "metadata": {},
   "source": [
    "#### TWES"
   ]
  },
  {
   "cell_type": "code",
   "execution_count": 67,
   "metadata": {
    "collapsed": true
   },
   "outputs": [],
   "source": [
    "tw_alphas=np.ones(len(ts.columns))/10.0\n",
    "tw_betas=np.ones(len(ts.columns))/10.0\n",
    "tw_gammas=np.ones(len(ts.columns))/10.0"
   ]
  },
  {
   "cell_type": "code",
   "execution_count": 86,
   "metadata": {
    "collapsed": false
   },
   "outputs": [
    {
     "name": "stdout",
     "output_type": "stream",
     "text": [
      "beta\n",
      "10\n",
      "104\n"
     ]
    }
   ],
   "source": [
    "# accuracies for alpha\n",
    "# j=0\n",
    "# accs1=[]\n",
    "# for alpha in line:\n",
    "#     accs1.append([])\n",
    "#     i=0\n",
    "#     for col in ts.columns:\n",
    "#         print(j)\n",
    "#         print(i)\n",
    "#         display.clear_output(wait=True)\n",
    "#         tw[col] = TWExponentialSmoothing(ts_par[col], h, {'alpha':alpha, 'beta':tw_betas[i], 'gamma': tw_gammas[i], 'seasonality_period':7})\n",
    "#         accs1[j].append(1-qualityMACAPE(tw[col],ts_par[col])[0])\n",
    "#         i+=1\n",
    "#     j+=1\n",
    "\n",
    "# # accuracies for gamma\n",
    "# j=0\n",
    "# accs2=[]\n",
    "# for gamma in line:\n",
    "#     accs2.append([])\n",
    "#     i=0\n",
    "#     for col in ts.columns:\n",
    "#         print('gamma')\n",
    "#         print(j)\n",
    "#         print(i)\n",
    "#         display.clear_output(wait=True)\n",
    "#         tw[col] = TWExponentialSmoothing(ts_par[col], h, {'alpha':tw_alphas[i], 'beta':tw_betas[i], 'gamma': gamma, 'seasonality_period':7})\n",
    "#         accs2[j].append(1-qualityMACAPE(tw[col],ts_par[col])[0])\n",
    "#         i+=1\n",
    "#     j+=1\n",
    "\n",
    "# accuracies for beta\n",
    "j=0\n",
    "accs3=[]\n",
    "for beta in line:\n",
    "    accs3.append([])\n",
    "    i=0\n",
    "    for col in ts.columns:\n",
    "        print('beta')\n",
    "        print(j)\n",
    "        print(i)\n",
    "        display.clear_output(wait=True)\n",
    "        tw[col] = TWExponentialSmoothing(ts_par[col], h, {'alpha':tw_alphas[i], 'beta':beta, 'gamma': tw_gammas[i], 'seasonality_period':7})\n",
    "        accs3[j].append(1-qualityMACAPE(tw[col],ts_par[col])[0])\n",
    "        i+=1\n",
    "    j+=1"
   ]
  },
  {
   "cell_type": "code",
   "execution_count": 117,
   "metadata": {
    "collapsed": false
   },
   "outputs": [],
   "source": [
    "tw_accs1=np.array(accs1)\n",
    "arg_max_accs1=np.argmax(tw_accs1, axis=0)\n",
    "tw_alphas=line[arg_max_accs1]\n",
    "\n",
    "tw_accs2=np.array(accs2)\n",
    "arg_max_accs2=np.argmax(tw_accs2, axis=0)\n",
    "tw_gammas=line[arg_max_accs2]\n",
    "\n",
    "tw_accs3=np.array(accs3)\n",
    "arg_max_accs3=np.argmax(tw_accs3, axis=0)\n",
    "tw_betas=line[arg_max_accs3]\n",
    "print('\\n')\n",
    "\n",
    "\n",
    "tw_alphas = pd.Series(tw_alphas)\n",
    "tw_alphas.to_csv('params/tw_alphas.csv')\n",
    "\n",
    "tw_gammas = pd.Series(tw_gammas)\n",
    "tw_gammas.to_csv('params/tw_gammas.csv')\n",
    "\n",
    "tw_betas = pd.Series(tw_betas)\n",
    "tw_betas.to_csv('params/tw_betas.csv')"
   ]
  },
  {
   "cell_type": "code",
   "execution_count": 119,
   "metadata": {
    "collapsed": false
   },
   "outputs": [
    {
     "name": "stdout",
     "output_type": "stream",
     "text": [
      "TWES alphas:\n",
      "[ 0.   0.   0.1  0.   0.   0.   0.   0.   0.   0.   0.   0.   0.   0.   0.\n",
      "  0.   0.1  0.   0.1  0.   0.   0.   0.1  0.   0.   0.   0.   0.   0.   0.\n",
      "  0.   0.   0.   0.   0.   0.1  0.   0.   0.   0.   0.   0.1  0.   0.   0.\n",
      "  0.1  0.   0.1  0.   0.   0.1  0.   0.   0.   0.   0.   0.1  0.   0.   0.\n",
      "  0.   0.   0.   0.   0.   0.   0.1  0.   0.1  0.1  0.   0.   0.   0.   0.1\n",
      "  0.1  0.   0.1  0.1  0.1  0.1  0.1  0.1  0.1  0.2  0.1  0.   0.1  0.1  0.1\n",
      "  0.1  0.1  0.1  0.1  0.   0.1  0.1  1.   0.3  0.2  0.2  0.1  0.1  0.1  0.1]\n",
      "TWES gammas:\n",
      "[ 0.2  0.2  0.2  0.3  0.1  0.3  0.1  0.1  0.1  0.1  0.1  0.1  0.1  0.1  0.2\n",
      "  0.1  0.1  0.1  0.   0.2  0.2  0.1  0.1  0.2  0.1  0.1  0.1  0.1  0.2  0.1\n",
      "  0.1  0.2  0.1  1.   0.2  0.1  0.1  0.2  0.2  0.2  0.   0.1  0.2  0.1  0.1\n",
      "  0.2  0.2  0.2  0.2  0.3  0.2  0.1  0.1  0.1  0.1  0.1  0.1  0.1  0.1  0.3\n",
      "  0.1  0.1  0.2  0.2  0.3  0.1  0.1  0.2  0.2  0.2  0.3  0.2  0.2  0.2  0.1\n",
      "  0.   0.1  0.2  0.1  0.2  0.1  0.   0.1  0.1  0.1  0.1  0.1  0.1  0.2  0.1\n",
      "  0.2  0.1  0.2  0.2  0.1  0.1  0.1  0.   0.2  0.1  0.1  0.3  0.2  0.3  0.2]\n",
      "TWES betas:\n",
      "[ 0.   0.   0.   0.   0.   0.   0.   0.   0.   0.   0.   0.   0.   0.   0.\n",
      "  0.   0.   0.   0.   0.   0.   0.   0.   0.   0.   0.   0.   0.   0.   0.\n",
      "  0.   0.   0.   0.   0.   0.   0.   0.   0.   0.   0.   0.   0.   0.   0.\n",
      "  0.   0.   0.   0.   0.   0.   0.   0.   0.   0.   0.   0.   0.   0.   0.\n",
      "  0.   0.   0.   0.   0.   0.   0.1  0.   0.   0.   0.   0.   0.   0.   0.\n",
      "  0.   0.   0.   0.   0.   0.   0.   0.   0.   0.   0.   0.   0.   0.   0.\n",
      "  0.   0.   0.   0.   0.   0.   0.   0.   0.   0.   0.   0.   0.   0.   0. ]\n",
      "0.214107193746\n",
      "0.214107193746\n",
      "0.214107193746\n"
     ]
    }
   ],
   "source": [
    "print(\"TWES alphas:\\n\"+str(np.array(tw_alphas)))\n",
    "print(\"TWES gammas:\\n\"+str(np.array(tw_gammas)))\n",
    "print(\"TWES betas:\\n\"+str(np.array(tw_betas)))\n",
    "\n",
    "print(tw_accs1.max(axis=0).mean())\n",
    "# plt.plot(range(len(ts.columns)),tw_accs1.max(axis=0))\n",
    "# plt.show()\n",
    "print(tw_accs2.max(axis=0).mean())\n",
    "# plt.plot(range(len(ts.columns)),tw_accs2.max(axis=0))\n",
    "# plt.show()\n",
    "print(tw_accs3.max(axis=0).mean())\n",
    "# plt.plot(range(len(ts.columns)),tw_accs3.max(axis=0))\n",
    "# plt.show()"
   ]
  },
  {
   "cell_type": "markdown",
   "metadata": {},
   "source": [
    "## Step 3\n",
    "\n",
    "Get found best params from saved .csv files"
   ]
  },
  {
   "cell_type": "code",
   "execution_count": 11,
   "metadata": {
    "collapsed": false
   },
   "outputs": [],
   "source": [
    "ies_alphas=np.array(pd.read_csv('params/ies_alphas.csv',header=None))[:,1]\n",
    "aes_alphas=np.array(pd.read_csv('params/aes_alphas.csv',header=None))[:,1]\n",
    "aes_gammas=np.array(pd.read_csv('params/aes_gammas.csv',header=None))[:,1]\n",
    "w_alphas=np.array(pd.read_csv('params/w_alphas.csv',header=None))[:,1]\n",
    "w_gammas=np.array(pd.read_csv('params/w_gammas.csv',header=None))[:,1]\n",
    "tw_alphas=np.array(pd.read_csv('params/tw_alphas.csv',header=None))[:,1]\n",
    "tw_betas=np.array(pd.read_csv('params/tw_betas.csv',header=None))[:,1]\n",
    "tw_gammas=np.array(pd.read_csv('params/tw_gammas.csv',header=None))[:,1]"
   ]
  },
  {
   "cell_type": "markdown",
   "metadata": {},
   "source": [
    "I use the data from '2005-05-12' - '2006-04-30' to make prediction"
   ]
  },
  {
   "cell_type": "code",
   "execution_count": 77,
   "metadata": {
    "collapsed": false
   },
   "outputs": [
    {
     "name": "stdout",
     "output_type": "stream",
     "text": [
      "104\n"
     ]
    }
   ],
   "source": [
    "ts_for=ts['2005-05-12':'2006-04-30']\n",
    "\n",
    "h = 1\n",
    "start = ts_for.index[-1]+timedelta(1)\n",
    "end = ts_for.index[-1]+timedelta(h)\n",
    "rng = pd.date_range(start, end)\n",
    "\n",
    "ies = pd.DataFrame(index = ts_for.index.append(rng), columns = ts.columns)\n",
    "aes = pd.DataFrame(index = ts_for.index.append(rng), columns = ts.columns)\n",
    "w = pd.DataFrame(index = ts_for.index.append(rng), columns = ts.columns)\n",
    "tw = pd.DataFrame(index = ts_for.index.append(rng), columns = ts.columns)\n",
    "\n",
    "i=0\n",
    "for col in ts.columns:\n",
    "    print(i)\n",
    "    display.clear_output(wait=True)\n",
    "    ies[col] = InitExponentialSmoothing(ts_for[col], h, {'alpha':ies_alphas[i], 'AdaptationPeriod': 10})\n",
    "    aes[col] = AdaptiveExponentialSmoothing(ts_for[col], h, {'alpha':aes_alphas[i], 'gamma': aes_gammas[i], 'AdaptationPeriod':10})\n",
    "    w[col] = WintersExponentialSmoothing(ts_for[col], h, {'alpha':w_alphas[i], 'gamma': w_gammas[i], 'seasonality_period':7})\n",
    "    tw[col] = TWExponentialSmoothing(ts_for[col], h, {'alpha':tw_alphas[i], 'beta':tw_betas[i], 'gamma': tw_gammas[i], 'seasonality_period':7})\n",
    "    i+=1\n"
   ]
  },
  {
   "cell_type": "markdown",
   "metadata": {},
   "source": [
    "## Step 4\n",
    "\n",
    "Calculating accuracies and finding best models for EACH of TS"
   ]
  },
  {
   "cell_type": "code",
   "execution_count": 78,
   "metadata": {
    "collapsed": false
   },
   "outputs": [],
   "source": [
    "ies_accs=[]\n",
    "aes_accs=[]\n",
    "w_accs=[]\n",
    "tw_accs=[]\n",
    "\n",
    "for col in ts.columns:\n",
    "    ies_accs.append(1-qualityMACAPE(ies[col]['2006-03-13':],ts_for[col]['2006-03-13':])[0])\n",
    "    aes_accs.append(1-qualityMACAPE(aes[col]['2006-03-13':],ts_for[col]['2006-03-13':])[0])\n",
    "    w_accs.append(1-qualityMACAPE(w[col]['2006-03-13':],ts_for[col]['2006-03-13':])[0])\n",
    "    tw_accs.append(1-qualityMACAPE(tw[col]['2006-03-13':],ts_for[col]['2006-03-13':])[0])\n",
    "\n",
    "all_accs=np.array([ies_accs,aes_accs,w_accs,tw_accs])\n",
    "\n",
    "best_models=np.argmax(all_accs, axis=0)"
   ]
  },
  {
   "cell_type": "markdown",
   "metadata": {},
   "source": [
    "Each element of array bellow means number of best model corresponds to each TS"
   ]
  },
  {
   "cell_type": "code",
   "execution_count": 79,
   "metadata": {
    "collapsed": false
   },
   "outputs": [
    {
     "name": "stdout",
     "output_type": "stream",
     "text": [
      "Best models for the series\n",
      "\n",
      "0: IES, 1: AES, 2: WES, 3: TWES\n",
      "\n",
      "[0 0 0 0 2 0 0 0 0 0 2 2 0 0 0 0 0 0 0 0 0 2 0 0 0 2 2 2 0 0 2 0 2 2 0 0 0\n",
      " 2 0 0 0 0 2 0 0 0 2 0 2 0 0 0 0 0 0 0 0 2 0 0 0 2 0 0 0 2 2 0 0 0 0 3 2 0\n",
      " 0 0 2 2 2 0 2 0 0 0 0 0 0 2 0 2 0 0 0 0 0 0 2 0 2 0 0 0 2 0 0]\n"
     ]
    }
   ],
   "source": [
    "print('Best models for the series\\n')\n",
    "print('0: IES, 1: AES, 2: WES, 3: TWES\\n')\n",
    "\n",
    "print(best_models)"
   ]
  },
  {
   "cell_type": "markdown",
   "metadata": {},
   "source": [
    "## Step 5\n",
    "Build the histogram of best Accuracy distribution"
   ]
  },
  {
   "cell_type": "code",
   "execution_count": 80,
   "metadata": {
    "collapsed": false
   },
   "outputs": [
    {
     "data": {
      "image/png": "[encoded data removed]",
      "text/plain": [
       "<matplotlib.figure.Figure at 0x7f77afb86f28>"
      ]
     },
     "metadata": {},
     "output_type": "display_data"
    }
   ],
   "source": [
    "best_all_accs=pd.Series(all_accs.max(axis=0)).dropna()\n",
    "\n",
    "plt.hist(best_all_accs, bins=50,  normed=1)\n",
    "plt.show()"
   ]
  },
  {
   "cell_type": "markdown",
   "metadata": {},
   "source": [
    "<br /><br /><br />\n",
    "<h1 align=\"center\">IV</h1>\n",
    "Use whole data to make prediction. Note that each TS predicted individually by one's best model."
   ]
  },
  {
   "cell_type": "code",
   "execution_count": 81,
   "metadata": {
    "collapsed": false
   },
   "outputs": [
    {
     "name": "stdout",
     "output_type": "stream",
     "text": [
      "92\n"
     ]
    }
   ],
   "source": [
    "ts_all=ts\n",
    "\n",
    "# Remove TS-s that have NaNs at 10 last cells\n",
    "for col in ts.columns:\n",
    "    if len(ts[col]['2006-06-03':].dropna())==0:\n",
    "        ts_all=ts_all.drop(col, 1)\n",
    "        \n",
    "h = 1\n",
    "start = ts_all.index[-1]+timedelta(1)\n",
    "end = ts_all.index[-1]+timedelta(h)\n",
    "rng = pd.date_range(start, end)\n",
    "\n",
    "es = pd.DataFrame(index = ts_all.index.append(rng), columns = ts_all.columns)\n",
    "\n",
    "i=0\n",
    "for col in ts_all.columns:\n",
    "    print(i)\n",
    "    display.clear_output(wait=True)\n",
    "    if best_models[i]==0:\n",
    "        es[col] = InitExponentialSmoothing(ts_all[col], h, {'alpha':ies_alphas[i], 'AdaptationPeriod': 10})\n",
    "    elif best_models[i]==1:\n",
    "        es[col] = AdaptiveExponentialSmoothing(ts_all[col], h, {'alpha':aes_alphas[i], 'gamma': aes_gammas[i], 'AdaptationPeriod':10})\n",
    "    elif best_models[i]==2:\n",
    "        es[col] = WintersExponentialSmoothing(ts_all[col], h, {'alpha':w_alphas[i], 'gamma': w_gammas[i], 'seasonality_period':7})\n",
    "    else:\n",
    "        es[col] = TWExponentialSmoothing(ts_all[col], h, {'alpha':tw_alphas[i], 'beta':tw_betas[i], 'gamma': tw_gammas[i], 'seasonality_period':7})\n",
    "    i+=1"
   ]
  },
  {
   "cell_type": "markdown",
   "metadata": {},
   "source": [
    "## Step 4.1\n",
    "\n",
    "Calculate accuracies for unused data"
   ]
  },
  {
   "cell_type": "code",
   "execution_count": 82,
   "metadata": {
    "collapsed": false
   },
   "outputs": [],
   "source": [
    "accs=[]\n",
    "\n",
    "for col in ts_all.columns:\n",
    "    accs.append(1-qualityMACAPE(es[col]['2006-04-30':],ts_all[col]['2006-04-30':])[0])"
   ]
  },
  {
   "cell_type": "markdown",
   "metadata": {},
   "source": [
    "## Step 4.2\n",
    "Build the histogram of Accuracy distribution"
   ]
  },
  {
   "cell_type": "code",
   "execution_count": 83,
   "metadata": {
    "collapsed": false
   },
   "outputs": [
    {
     "data": {
      "image/png": "[encoded data removed]",
      "text/plain": [
       "<matplotlib.figure.Figure at 0x7f77afd5d898>"
      ]
     },
     "metadata": {},
     "output_type": "display_data"
    }
   ],
   "source": [
    "accs=pd.Series(accs).dropna()\n",
    "\n",
    "plt.hist(accs, bins=70,  normed=1)\n",
    "plt.show()"
   ]
  },
  {
   "cell_type": "markdown",
   "metadata": {},
   "source": [
    "## Step 4.3\n",
    "The barchart for unused data (the last one) has higher probability of accuracies more than 0 (normed arround 0.25). "
   ]
  }
 ],
 "metadata": {
  "anaconda-cloud": {},
  "kernelspec": {
   "display_name": "Python 2",
   "language": "python",
   "name": "python2"
  },
  "language_info": {
   "codemirror_mode": {
    "name": "ipython",
    "version": 2
   },
   "file_extension": ".py",
   "mimetype": "text/x-python",
   "name": "python",
   "nbconvert_exporter": "python",
   "pygments_lexer": "ipython2",
   "version": "2.7.13"
  }
 },
 "nbformat": 4,
 "nbformat_minor": 0
}
